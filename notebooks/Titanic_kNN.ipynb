{
 "cells": [
  {
   "cell_type": "markdown",
   "id": "156dcebe",
   "metadata": {},
   "source": [
    "# k-NearestNeighbors classifier\n",
    "\n",
    "Demonstration of the k-Nearest Neighbors algorithm applied to a classification problem with the Kaggle titanic dataset"
   ]
  },
  {
   "cell_type": "code",
   "execution_count": 52,
   "id": "bba732b3",
   "metadata": {},
   "outputs": [],
   "source": [
    "import pandas as pd\n",
    "import numpy as np\n",
    "import matplotlib.pyplot as plt\n",
    "import mglearn\n",
    "from sklearn.model_selection import train_test_split\n",
    "from sklearn.neighbors import KNeighborsClassifier\n",
    "from sklearn import preprocessing"
   ]
  },
  {
   "cell_type": "code",
   "execution_count": 9,
   "id": "e81f4059",
   "metadata": {},
   "outputs": [],
   "source": [
    "# read in data\n",
    "df = pd.read_csv('../datasets/train.csv')"
   ]
  },
  {
   "cell_type": "code",
   "execution_count": 15,
   "id": "22281c85",
   "metadata": {},
   "outputs": [],
   "source": [
    "# drop unnecessary columns, any nan values and set the index\n",
    "train_df = df.copy().drop(columns=['Name','Ticket','Cabin']).set_index('PassengerId').dropna()"
   ]
  },
  {
   "cell_type": "code",
   "execution_count": 27,
   "id": "cda064f6",
   "metadata": {},
   "outputs": [
    {
     "data": {
      "text/html": [
       "<div>\n",
       "<style scoped>\n",
       "    .dataframe tbody tr th:only-of-type {\n",
       "        vertical-align: middle;\n",
       "    }\n",
       "\n",
       "    .dataframe tbody tr th {\n",
       "        vertical-align: top;\n",
       "    }\n",
       "\n",
       "    .dataframe thead th {\n",
       "        text-align: right;\n",
       "    }\n",
       "</style>\n",
       "<table border=\"1\" class=\"dataframe\">\n",
       "  <thead>\n",
       "    <tr style=\"text-align: right;\">\n",
       "      <th></th>\n",
       "      <th>Survived</th>\n",
       "      <th>Pclass</th>\n",
       "      <th>Sex</th>\n",
       "      <th>Age</th>\n",
       "      <th>SibSp</th>\n",
       "      <th>Parch</th>\n",
       "      <th>Fare</th>\n",
       "      <th>Embarked</th>\n",
       "    </tr>\n",
       "    <tr>\n",
       "      <th>PassengerId</th>\n",
       "      <th></th>\n",
       "      <th></th>\n",
       "      <th></th>\n",
       "      <th></th>\n",
       "      <th></th>\n",
       "      <th></th>\n",
       "      <th></th>\n",
       "      <th></th>\n",
       "    </tr>\n",
       "  </thead>\n",
       "  <tbody>\n",
       "    <tr>\n",
       "      <th>1</th>\n",
       "      <td>0</td>\n",
       "      <td>3</td>\n",
       "      <td>male</td>\n",
       "      <td>22.0</td>\n",
       "      <td>1</td>\n",
       "      <td>0</td>\n",
       "      <td>7.2500</td>\n",
       "      <td>S</td>\n",
       "    </tr>\n",
       "    <tr>\n",
       "      <th>2</th>\n",
       "      <td>1</td>\n",
       "      <td>1</td>\n",
       "      <td>female</td>\n",
       "      <td>38.0</td>\n",
       "      <td>1</td>\n",
       "      <td>0</td>\n",
       "      <td>71.2833</td>\n",
       "      <td>C</td>\n",
       "    </tr>\n",
       "    <tr>\n",
       "      <th>3</th>\n",
       "      <td>1</td>\n",
       "      <td>3</td>\n",
       "      <td>female</td>\n",
       "      <td>26.0</td>\n",
       "      <td>0</td>\n",
       "      <td>0</td>\n",
       "      <td>7.9250</td>\n",
       "      <td>S</td>\n",
       "    </tr>\n",
       "    <tr>\n",
       "      <th>4</th>\n",
       "      <td>1</td>\n",
       "      <td>1</td>\n",
       "      <td>female</td>\n",
       "      <td>35.0</td>\n",
       "      <td>1</td>\n",
       "      <td>0</td>\n",
       "      <td>53.1000</td>\n",
       "      <td>S</td>\n",
       "    </tr>\n",
       "    <tr>\n",
       "      <th>5</th>\n",
       "      <td>0</td>\n",
       "      <td>3</td>\n",
       "      <td>male</td>\n",
       "      <td>35.0</td>\n",
       "      <td>0</td>\n",
       "      <td>0</td>\n",
       "      <td>8.0500</td>\n",
       "      <td>S</td>\n",
       "    </tr>\n",
       "  </tbody>\n",
       "</table>\n",
       "</div>"
      ],
      "text/plain": [
       "             Survived  Pclass     Sex   Age  SibSp  Parch     Fare Embarked\n",
       "PassengerId                                                                \n",
       "1                   0       3    male  22.0      1      0   7.2500        S\n",
       "2                   1       1  female  38.0      1      0  71.2833        C\n",
       "3                   1       3  female  26.0      0      0   7.9250        S\n",
       "4                   1       1  female  35.0      1      0  53.1000        S\n",
       "5                   0       3    male  35.0      0      0   8.0500        S"
      ]
     },
     "execution_count": 27,
     "metadata": {},
     "output_type": "execute_result"
    }
   ],
   "source": [
    "train_df.head()"
   ]
  },
  {
   "cell_type": "code",
   "execution_count": 34,
   "id": "9721a0e8",
   "metadata": {},
   "outputs": [],
   "source": [
    "# split into features and labels\n",
    "X = train_df.drop('Survived',axis=1)\n",
    "y = train_df['Survived']"
   ]
  },
  {
   "cell_type": "code",
   "execution_count": 35,
   "id": "f50c3367",
   "metadata": {},
   "outputs": [],
   "source": [
    "# preprocess the data so it can be used in the kNN algorithm\n",
    "X['Sex'].replace({'male':0,'female':1},inplace=True)\n",
    "X['Embarked'].replace({'S':0,'C':1,'Q':2},inplace=True)"
   ]
  },
  {
   "cell_type": "code",
   "execution_count": 48,
   "id": "e7b24118",
   "metadata": {},
   "outputs": [],
   "source": [
    "# perform a train-test split of the data into training and test sets\n",
    "X_train, X_test, y_train, y_test = train_test_split(X.values, y.values, train_size=0.75,random_state=0)"
   ]
  },
  {
   "cell_type": "code",
   "execution_count": 54,
   "id": "f6097515",
   "metadata": {},
   "outputs": [],
   "source": [
    "# scale the data \n",
    "X_train_scaled = preprocessing.StandardScaler().fit_transform(X_train)"
   ]
  },
  {
   "cell_type": "code",
   "execution_count": 55,
   "id": "ee6f267b",
   "metadata": {},
   "outputs": [],
   "source": [
    "# build a and fit a kNN model\n",
    "model = KNeighborsClassifier(n_neighbors=5).fit(X_train_scaled,y_train)"
   ]
  },
  {
   "cell_type": "code",
   "execution_count": 56,
   "id": "9a6e9817",
   "metadata": {},
   "outputs": [],
   "source": [
    "# score the model on the test dataset\n",
    "score = model.score(X_test,y_test)"
   ]
  },
  {
   "cell_type": "code",
   "execution_count": 69,
   "id": "88f0b6af",
   "metadata": {},
   "outputs": [
    {
     "data": {
      "image/png": "[encoded data removed]",
      "text/plain": [
       "<Figure size 432x432 with 1 Axes>"
      ]
     },
     "metadata": {
      "needs_background": "light"
     },
     "output_type": "display_data"
    }
   ],
   "source": [
    "# try different values of K\n",
    "scores = []\n",
    "for k in range(1,10):\n",
    "    model = KNeighborsClassifier(n_neighbors=k).fit(X_train,y_train)\n",
    "    scores.append(model.score(X_test,y_test))\n",
    "    \n",
    "fig = plt.figure(figsize=(6,6))\n",
    "plt.scatter(range(1,10),scores)\n",
    "plt.xlabel('k')\n",
    "plt.ylabel('Accuracy');"
   ]
  },
  {
   "cell_type": "code",
   "execution_count": 70,
   "id": "b6684b0f",
   "metadata": {},
   "outputs": [
    {
     "name": "stdout",
     "output_type": "stream",
     "text": [
      "euclidean\n",
      "manhattan\n",
      "chebyshev\n",
      "minkowski\n"
     ]
    },
    {
     "data": {
      "image/png": "[encoded data removed]",
      "text/plain": [
       "<Figure size 432x432 with 1 Axes>"
      ]
     },
     "metadata": {
      "needs_background": "light"
     },
     "output_type": "display_data"
    }
   ],
   "source": [
    "# try different parameters\n",
    "params = ['euclidean','manhattan','chebyshev','minkowski']\n",
    "scores = []\n",
    "for param in params:\n",
    "    print(param)\n",
    "    model = KNeighborsClassifier(n_neighbors=5,metric=param).fit(X_train,y_train)\n",
    "    scores.append(model.score(X_test,y_test))\n",
    "    \n",
    "fig = plt.figure(figsize=(6,6))\n",
    "plt.scatter(params,scores)\n",
    "plt.xlabel('Hyperparameter value')\n",
    "plt.ylabel('Accuracy');"
   ]
  },
  {
   "cell_type": "code",
   "execution_count": 71,
   "id": "1e397cc5",
   "metadata": {},
   "outputs": [
    {
     "data": {
      "image/png": "[encoded data removed]",
      "text/plain": [
       "<Figure size 432x432 with 1 Axes>"
      ]
     },
     "metadata": {
      "needs_background": "light"
     },
     "output_type": "display_data"
    }
   ],
   "source": [
    "# try different values of p in minkowski\n",
    "p_vals = range(1,6)\n",
    "scores = []\n",
    "for p in p_vals:\n",
    "    model = KNeighborsClassifier(n_neighbors=5,metric='minkowski',p=p).fit(X_train,y_train)\n",
    "    scores.append(model.score(X_test,y_test))\n",
    "    \n",
    "fig = plt.figure(figsize=(6,6))\n",
    "plt.scatter(p_vals,scores)\n",
    "plt.xlabel('Power param value')\n",
    "plt.ylabel('Accuracy');"
   ]
  },
  {
   "cell_type": "code",
   "execution_count": null,
   "id": "0383e61f",
   "metadata": {},
   "outputs": [],
   "source": []
  },
  {
   "cell_type": "code",
   "execution_count": null,
   "id": "57ec83a0",
   "metadata": {},
   "outputs": [],
   "source": []
  }
 ],
 "metadata": {
  "kernelspec": {
   "display_name": "venv-titanic",
   "language": "python",
   "name": "venv-titanic"
  },
  "language_info": {
   "codemirror_mode": {
    "name": "ipython",
    "version": 3
   },
   "file_extension": ".py",
   "mimetype": "text/x-python",
   "name": "python",
   "nbconvert_exporter": "python",
   "pygments_lexer": "ipython3",
   "version": "3.9.6"
  }
 },
 "nbformat": 4,
 "nbformat_minor": 5
}
