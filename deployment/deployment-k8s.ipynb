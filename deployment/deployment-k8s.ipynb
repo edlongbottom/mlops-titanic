{
 "cells": [
  {
   "cell_type": "markdown",
   "metadata": {},
   "source": [
    "### Walkthrough of model deployment as ML web service on Kubernetes"
   ]
  },
  {
   "cell_type": "code",
   "execution_count": 20,
   "metadata": {},
   "outputs": [],
   "source": [
    "from yaml import load, Loader\n",
    "import os\n",
    "import requests\n",
    "import json"
   ]
  },
  {
   "cell_type": "markdown",
   "metadata": {},
   "source": [
    "Load configuration"
   ]
  },
  {
   "cell_type": "code",
   "execution_count": 8,
   "metadata": {},
   "outputs": [],
   "source": [
    "with open('config.yaml','r') as config_file:\n",
    "    config = load(config_file, Loader=Loader)\n",
    "\n",
    "docker_registry = config['DOCKER_REGISTRY']\n",
    "service_name = config['SERVICE_NAME']\n",
    "api_version = config['API_VERSION']\n",
    "model_repo = '..\\experimentation\\models'"
   ]
  },
  {
   "cell_type": "markdown",
   "metadata": {},
   "source": [
    "Copy latest model to deployment directory"
   ]
  },
  {
   "cell_type": "code",
   "execution_count": 16,
   "metadata": {},
   "outputs": [
    {
     "name": "stdout",
     "output_type": "stream",
     "text": [
      "        1 file(s) copied.\n"
     ]
    }
   ],
   "source": [
    "latest_model = sorted(os.listdir(model_repo))[-1]\n",
    "latest_model_path = os.path.join(model_repo,latest_model)\n",
    "\n",
    "!copy {latest_model_path} ."
   ]
  },
  {
   "cell_type": "markdown",
   "metadata": {},
   "source": [
    "Build the docker image"
   ]
  },
  {
   "cell_type": "code",
   "execution_count": 17,
   "metadata": {},
   "outputs": [
    {
     "name": "stderr",
     "output_type": "stream",
     "text": [
      "#1 [internal] load build definition from Dockerfile\n",
      "#1 sha256:fbdc11ca5b91d337a697cd95f2fe04894caf8873ee5f0ab625a505ec197667db\n",
      "#1 transferring dockerfile: 225B done\n",
      "#1 DONE 0.0s\n",
      "\n",
      "#2 [internal] load .dockerignore\n",
      "#2 sha256:85698ddf877abbf5684f60088013dbbafff4b1241ea04b9bf874a688fde00629\n",
      "#2 transferring context: 2B done\n",
      "#2 DONE 0.0s\n",
      "\n",
      "#3 [internal] load metadata for docker.io/library/python:3.9-slim\n",
      "#3 sha256:3425157df499c84dd49181e5611a11caeed16adf15a5ddbcfa4c3002c56d3d27\n",
      "#3 DONE 0.8s\n",
      "\n",
      "#4 [1/5] FROM docker.io/library/python:3.9-slim@sha256:d67e4b3e185208a010e0d06dd1f655292dd92c5dd08a64b1c59a0acbd387b1e9\n",
      "#4 sha256:50f4b98c190db8b5a8550f1967c6924d86d16143ba5d31809975402465cf3079\n",
      "#4 DONE 0.0s\n",
      "\n",
      "#5 [2/5] RUN mkdir /app\n",
      "#5 sha256:e1f3069cec88a973a3eae25ca94e7435bb7fb26846c5bcefeb9c047006d151f5\n",
      "#5 CACHED\n",
      "\n",
      "#6 [internal] load build context\n",
      "#6 sha256:b020678d324f37b313fe9ba90751166cdce3e49c32fa05240a6109d70b336a4e\n",
      "#6 transferring context: 3.43kB done\n",
      "#6 DONE 0.0s\n",
      "\n",
      "#7 [3/5] COPY config.yaml api.py ml_model.sav requirements.txt /app/\n",
      "#7 sha256:edec02f8860e3259eb9fa8d42f410da90b84485a0d529b39bf484840da34012c\n",
      "#7 DONE 0.0s\n",
      "\n",
      "#8 [4/5] WORKDIR /app\n",
      "#8 sha256:9e63630514d87f471d676e9a4a0491b69c038b2fbf23964adc0d543fecb3f990\n",
      "#8 DONE 0.0s\n",
      "\n",
      "#9 [5/5] RUN pip install -r requirements.txt\n",
      "#9 sha256:d18b579539942a9f3447f3eb7733409ad4933f72e8bf17c6376496b8f2585f5a\n",
      "#9 1.905 Collecting Flask==2.0.2\n",
      "#9 2.029   Downloading Flask-2.0.2-py3-none-any.whl (95 kB)\n",
      "#9 2.695 Collecting numpy==1.21.2\n",
      "#9 2.720   Downloading numpy-1.21.2-cp39-cp39-manylinux_2_12_x86_64.manylinux2010_x86_64.whl (15.8 MB)\n",
      "#9 6.273 Collecting sklearn==0.0\n",
      "#9 6.296   Downloading sklearn-0.0.tar.gz (1.1 kB)\n",
      "#9 6.802 Collecting PyYAML==6.0\n",
      "#9 6.828   Downloading PyYAML-6.0-cp39-cp39-manylinux_2_5_x86_64.manylinux1_x86_64.manylinux_2_12_x86_64.manylinux2010_x86_64.whl (661 kB)\n",
      "#9 7.039 Collecting itsdangerous>=2.0\n",
      "#9 7.062   Downloading itsdangerous-2.0.1-py3-none-any.whl (18 kB)\n",
      "#9 7.131 Collecting click>=7.1.2\n",
      "#9 7.156   Downloading click-8.0.3-py3-none-any.whl (97 kB)\n",
      "#9 7.241 Collecting Jinja2>=3.0\n",
      "#9 7.265   Downloading Jinja2-3.0.3-py3-none-any.whl (133 kB)\n",
      "#9 7.374 Collecting Werkzeug>=2.0\n",
      "#9 7.398   Downloading Werkzeug-2.0.2-py3-none-any.whl (288 kB)\n",
      "#9 7.776 Collecting scikit-learn\n",
      "#9 7.798   Downloading scikit_learn-1.0.1-cp39-cp39-manylinux_2_12_x86_64.manylinux2010_x86_64.whl (24.7 MB)\n",
      "#9 13.34 Collecting MarkupSafe>=2.0\n",
      "#9 13.37   Downloading MarkupSafe-2.0.1-cp39-cp39-manylinux_2_5_x86_64.manylinux1_x86_64.manylinux_2_12_x86_64.manylinux2010_x86_64.whl (30 kB)\n",
      "#9 13.51 Collecting joblib>=0.11\n",
      "#9 13.53   Downloading joblib-1.1.0-py2.py3-none-any.whl (306 kB)\n",
      "#9 14.02 Collecting scipy>=1.1.0\n",
      "#9 14.04   Downloading scipy-1.7.3-cp39-cp39-manylinux_2_17_x86_64.manylinux2014_x86_64.whl (39.8 MB)\n",
      "#9 22.78 Collecting threadpoolctl>=2.0.0\n",
      "#9 22.80   Downloading threadpoolctl-3.0.0-py3-none-any.whl (14 kB)\n",
      "#9 22.83 Building wheels for collected packages: sklearn\n",
      "#9 22.83   Building wheel for sklearn (setup.py): started\n",
      "#9 23.13   Building wheel for sklearn (setup.py): finished with status 'done'\n",
      "#9 23.13   Created wheel for sklearn: filename=sklearn-0.0-py2.py3-none-any.whl size=1309 sha256=587f3c5e014a90c36e336bc39d347bb675977c8e8d536a0f8e0e1dd38651a13a\n",
      "#9 23.13   Stored in directory: /root/.cache/pip/wheels/e4/7b/98/b6466d71b8d738a0c547008b9eb39bf8676d1ff6ca4b22af1c\n",
      "#9 23.13 Successfully built sklearn\n",
      "#9 23.22 Installing collected packages: numpy, threadpoolctl, scipy, MarkupSafe, joblib, Werkzeug, scikit-learn, Jinja2, itsdangerous, click, sklearn, PyYAML, Flask\n",
      "#9 31.09 Successfully installed Flask-2.0.2 Jinja2-3.0.3 MarkupSafe-2.0.1 PyYAML-6.0 Werkzeug-2.0.2 click-8.0.3 itsdangerous-2.0.1 joblib-1.1.0 numpy-1.21.2 scikit-learn-1.0.1 scipy-1.7.3 sklearn-0.0 threadpoolctl-3.0.0\n",
      "#9 31.09 WARNING: Running pip as the 'root' user can result in broken permissions and conflicting behaviour with the system package manager. It is recommended to use a virtual environment instead: https://pip.pypa.io/warnings/venv\n",
      "#9 31.26 WARNING: You are using pip version 21.2.4; however, version 21.3.1 is available.\n",
      "#9 31.26 You should consider upgrading via the '/usr/local/bin/python -m pip install --upgrade pip' command.\n",
      "#9 DONE 31.6s\n",
      "\n",
      "#10 exporting to image\n",
      "#10 sha256:e8c613e07b0b7ff33893b694f7759a10d42e180f2b4dc349fb57dc6b71dcab00\n",
      "#10 exporting layers\n",
      "#10 exporting layers 2.0s done\n",
      "#10 writing image sha256:b1fa4e3bad4803ed66a7bad59eec0c941375adf8b34b41baafa6960e7ae97ba4 done\n",
      "#10 naming to docker.io/edlongbottom/mlwebservice/titanic:0.0.1 done\n",
      "#10 DONE 2.0s\n",
      "\n",
      "Use 'docker scan' to run Snyk tests against images to find vulnerabilities and learn how to fix them\n"
     ]
    }
   ],
   "source": [
    "tag = f'{docker_registry}/{service_name}:{api_version}'\n",
    "!docker build -t {tag} ."
   ]
  },
  {
   "cell_type": "markdown",
   "metadata": {},
   "source": [
    "Push the image to Docker hub"
   ]
  },
  {
   "cell_type": "code",
   "execution_count": null,
   "metadata": {},
   "outputs": [],
   "source": [
    "!docker push {tag}"
   ]
  },
  {
   "cell_type": "markdown",
   "metadata": {},
   "source": [
    "Deploy the image to Kubernetes using Helm"
   ]
  },
  {
   "cell_type": "code",
   "execution_count": 18,
   "metadata": {},
   "outputs": [
    {
     "name": "stdout",
     "output_type": "stream",
     "text": [
      "Release \"mlwebservice-titanic\" does not exist. Installing it now.\n",
      "NAME: mlwebservice-titanic\n",
      "LAST DEPLOYED: Sat Dec 11 16:17:00 2021\n",
      "NAMESPACE: default\n",
      "STATUS: deployed\n",
      "REVISION: 1\n",
      "TEST SUITE: None\n"
     ]
    }
   ],
   "source": [
    "!helm upgrade --install mlwebservice-titanic helm-ml-serving"
   ]
  },
  {
   "cell_type": "markdown",
   "metadata": {},
   "source": [
    "Test the web service"
   ]
  },
  {
   "cell_type": "code",
   "execution_count": 25,
   "metadata": {},
   "outputs": [],
   "source": [
    "# example of an input that should yield 0\n",
    "X1 = [-0.11338264511659583,-1.0524307127141423, 1.0, 0.0, 0.0, 0.0, 1.0, 0.0, 1.0, 0.0, 0.0, 0.0, 0.0, 0.0, 0.0, 0.0, 1.0, 0.0, 1.0, 0.0, 0.0, 0.0, 0.0]\n",
    "\n",
    "# example of an input that should yield 1\n",
    "X2 = [-1.632430989759686,0.231855615029561,1.0,0.0,0.0,0.0,1.0,0.0,1.0,0.0,0.0,0.0,0.0,0.0,0.0,1.0,0.0,1.0,0.0,0.0,0.0,0.0,0.0]\n",
    "\n",
    "# define base URL (localhost + flask port)\n",
    "url = f\"http://127.0.0.1:5000/{service_name}/v{api_version}/predict\"\n",
    "body={'X':X2}\n",
    "headers = {\"Content-Type\": \"application/json\"}"
   ]
  },
  {
   "cell_type": "code",
   "execution_count": 26,
   "metadata": {},
   "outputs": [
    {
     "name": "stdout",
     "output_type": "stream",
     "text": [
      "{'prediction': 1}\n"
     ]
    }
   ],
   "source": [
    "# send a get request to flask api\n",
    "response = requests.post(url=url, data=json.dumps(body), headers=headers)\n",
    "print(response.json()) "
   ]
  },
  {
   "cell_type": "code",
   "execution_count": null,
   "metadata": {},
   "outputs": [],
   "source": []
  }
 ],
 "metadata": {
  "interpreter": {
   "hash": "c54b4acbf7bec5da1dd6ed3afae36d1425463432e804fe22fdd7ec77f7461ae2"
  },
  "kernelspec": {
   "display_name": "Python 3.9.6 64-bit",
   "language": "python",
   "name": "python3"
  },
  "language_info": {
   "codemirror_mode": {
    "name": "ipython",
    "version": 3
   },
   "file_extension": ".py",
   "mimetype": "text/x-python",
   "name": "python",
   "nbconvert_exporter": "python",
   "pygments_lexer": "ipython3",
   "version": "3.9.6"
  },
  "orig_nbformat": 4
 },
 "nbformat": 4,
 "nbformat_minor": 2
}
