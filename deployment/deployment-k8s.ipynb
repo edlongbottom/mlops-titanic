{
 "cells": [
  {
   "cell_type": "markdown",
   "metadata": {},
   "source": [
    "## Walkthrough of model deployment as ML web service on Kubernetes\n",
    "\n",
    "This notebook outlines steps for deploying a simple custom-built REST API prediction service to Kubernetes\n",
    "\n",
    "\n",
    "### Prepare environment\n",
    "\n",
    "**Import libraries**"
   ]
  },
  {
   "cell_type": "code",
   "execution_count": 1,
   "metadata": {},
   "outputs": [],
   "source": [
    "from yaml import load, Loader\n",
    "import os\n",
    "import requests\n",
    "import json"
   ]
  },
  {
   "cell_type": "markdown",
   "metadata": {},
   "source": [
    "**Load config for environment variables**\n",
    "\n",
    "Load configuration"
   ]
  },
  {
   "cell_type": "code",
   "execution_count": 29,
   "metadata": {},
   "outputs": [],
   "source": [
    "with open('config.yaml','r') as config_file:\n",
    "    config = load(config_file, Loader=Loader)\n",
    "\n",
    "docker_registry = config['DOCKER_REGISTRY']\n",
    "service_name = config['SERVICE_NAME']\n",
    "api_version = config['API_VERSION']\n",
    "model_repo = '..\\experimentation\\models'"
   ]
  },
  {
   "cell_type": "markdown",
   "metadata": {},
   "source": [
    "Copy latest model to deployment directory"
   ]
  },
  {
   "cell_type": "code",
   "execution_count": 11,
   "metadata": {},
   "outputs": [
    {
     "name": "stdout",
     "output_type": "stream",
     "text": [
      "        1 file(s) copied.\n"
     ]
    }
   ],
   "source": [
    "latest_model = sorted(os.listdir(model_repo))[-1]\n",
    "latest_model_path = os.path.join(model_repo,latest_model)\n",
    "\n",
    "!copy \"{latest_model_path}\" ."
   ]
  },
  {
   "cell_type": "markdown",
   "metadata": {},
   "source": [
    "### Containerise the prediction service using Docker\n",
    "\n",
    "**Build the docker image**\n",
    "\n",
    "Create a relevant tag that includes the image repository, a name for the service and its version."
   ]
  },
  {
   "cell_type": "code",
   "execution_count": 14,
   "metadata": {},
   "outputs": [
    {
     "name": "stderr",
     "output_type": "stream",
     "text": [
      "#1 [internal] load build definition from Dockerfile\n",
      "#1 sha256:e7adba2b8b13e7fdacb7553ff9bb73f0fb7240ab29a30b9f1568ef9e97968e3f\n",
      "#1 transferring dockerfile: 225B 0.0s done\n",
      "#1 DONE 0.0s\n",
      "\n",
      "#2 [internal] load .dockerignore\n",
      "#2 sha256:5938fa3fa74aa1e61ba1f82222caadf1863de426dfa850506ff8f869456c67a7\n",
      "#2 transferring context: 2B done\n",
      "#2 DONE 0.0s\n",
      "\n",
      "#3 [internal] load metadata for docker.io/library/python:3.9-slim\n",
      "#3 sha256:3425157df499c84dd49181e5611a11caeed16adf15a5ddbcfa4c3002c56d3d27\n",
      "#3 DONE 3.9s\n",
      "\n",
      "#4 [1/5] FROM docker.io/library/python:3.9-slim@sha256:f4efbe5d1eb52c221fded79ddf18e4baa0606e7766afe2f07b0b330a9e79564a\n",
      "#4 sha256:9ce0d84a404c9ac604ef98baa1f1065d5a70e321684b314c01df3d72c5a89693\n",
      "#4 resolve docker.io/library/python:3.9-slim@sha256:f4efbe5d1eb52c221fded79ddf18e4baa0606e7766afe2f07b0b330a9e79564a 0.0s done\n",
      "#4 ...\n",
      "\n",
      "#6 [internal] load build context\n",
      "#6 sha256:37986f1db2c29fa8823ecaec8196ec4d3038b3ad1a4fca3ce4dec35c29fa2710\n",
      "#6 transferring context: 4.54kB 0.0s done\n",
      "#6 DONE 0.0s\n",
      "\n",
      "#4 [1/5] FROM docker.io/library/python:3.9-slim@sha256:f4efbe5d1eb52c221fded79ddf18e4baa0606e7766afe2f07b0b330a9e79564a\n",
      "#4 sha256:9ce0d84a404c9ac604ef98baa1f1065d5a70e321684b314c01df3d72c5a89693\n",
      "#4 sha256:f4efbe5d1eb52c221fded79ddf18e4baa0606e7766afe2f07b0b330a9e79564a 1.86kB / 1.86kB done\n",
      "#4 sha256:615ceb9962b182726198d4e71c1b8ecfa4904f83957fb8f4742e573e18e990f7 1.37kB / 1.37kB done\n",
      "#4 sha256:8ace3a02b8421dd3afe87c552673fb21ebba878c29977856b27a9e68714e16bb 7.88kB / 7.88kB done\n",
      "#4 sha256:a2abf6c4d29d43a4bf9fbb769f524d0fb36a2edab49819c1bf3e76f409f953ea 0B / 31.36MB 0.1s\n",
      "#4 sha256:27003db43ed41a599ee4f212684be296e644c6a82868f0f34dc9bdc39dc93348 0B / 1.08MB 0.1s\n",
      "#4 sha256:eba080ca5a70cc6fa2bcbab4c3ba67efb762171f7e63ea47c9e73c23e1b0d14d 0B / 11.01MB 0.1s\n",
      "#4 sha256:a2abf6c4d29d43a4bf9fbb769f524d0fb36a2edab49819c1bf3e76f409f953ea 2.10MB / 31.36MB 3.0s\n",
      "#4 sha256:27003db43ed41a599ee4f212684be296e644c6a82868f0f34dc9bdc39dc93348 1.08MB / 1.08MB 3.0s\n",
      "#4 sha256:27003db43ed41a599ee4f212684be296e644c6a82868f0f34dc9bdc39dc93348 1.08MB / 1.08MB 3.0s done\n",
      "#4 sha256:00ceeca3d803e82aef2f42658d514b7f567a9aac28a45238a3e8891b6c372b1b 0B / 235B 3.1s\n",
      "#4 sha256:00ceeca3d803e82aef2f42658d514b7f567a9aac28a45238a3e8891b6c372b1b 235B / 235B 3.6s done\n",
      "#4 sha256:8980b900ecd203d1d844aea46144bda4a95ef3ebf22245279e14abdfa710840d 0B / 2.64MB 3.6s\n",
      "#4 sha256:eba080ca5a70cc6fa2bcbab4c3ba67efb762171f7e63ea47c9e73c23e1b0d14d 1.05MB / 11.01MB 4.2s\n",
      "#4 sha256:8980b900ecd203d1d844aea46144bda4a95ef3ebf22245279e14abdfa710840d 1.05MB / 2.64MB 6.0s\n",
      "#4 sha256:8980b900ecd203d1d844aea46144bda4a95ef3ebf22245279e14abdfa710840d 2.10MB / 2.64MB 6.8s\n",
      "#4 sha256:8980b900ecd203d1d844aea46144bda4a95ef3ebf22245279e14abdfa710840d 2.64MB / 2.64MB 7.2s done\n",
      "#4 sha256:a2abf6c4d29d43a4bf9fbb769f524d0fb36a2edab49819c1bf3e76f409f953ea 4.19MB / 31.36MB 8.2s\n",
      "#4 sha256:eba080ca5a70cc6fa2bcbab4c3ba67efb762171f7e63ea47c9e73c23e1b0d14d 2.10MB / 11.01MB 8.8s\n",
      "#4 sha256:a2abf6c4d29d43a4bf9fbb769f524d0fb36a2edab49819c1bf3e76f409f953ea 6.29MB / 31.36MB 10.4s\n",
      "#4 sha256:eba080ca5a70cc6fa2bcbab4c3ba67efb762171f7e63ea47c9e73c23e1b0d14d 3.15MB / 11.01MB 11.1s\n",
      "#4 sha256:a2abf6c4d29d43a4bf9fbb769f524d0fb36a2edab49819c1bf3e76f409f953ea 8.39MB / 31.36MB 12.8s\n",
      "#4 sha256:eba080ca5a70cc6fa2bcbab4c3ba67efb762171f7e63ea47c9e73c23e1b0d14d 4.19MB / 11.01MB 13.7s\n",
      "#4 sha256:a2abf6c4d29d43a4bf9fbb769f524d0fb36a2edab49819c1bf3e76f409f953ea 10.49MB / 31.36MB 15.5s\n",
      "#4 sha256:eba080ca5a70cc6fa2bcbab4c3ba67efb762171f7e63ea47c9e73c23e1b0d14d 5.24MB / 11.01MB 16.1s\n",
      "#4 sha256:a2abf6c4d29d43a4bf9fbb769f524d0fb36a2edab49819c1bf3e76f409f953ea 12.58MB / 31.36MB 17.5s\n",
      "#4 sha256:eba080ca5a70cc6fa2bcbab4c3ba67efb762171f7e63ea47c9e73c23e1b0d14d 6.29MB / 11.01MB 17.6s\n",
      "#4 sha256:eba080ca5a70cc6fa2bcbab4c3ba67efb762171f7e63ea47c9e73c23e1b0d14d 7.34MB / 11.01MB 18.6s\n",
      "#4 sha256:eba080ca5a70cc6fa2bcbab4c3ba67efb762171f7e63ea47c9e73c23e1b0d14d 8.39MB / 11.01MB 19.2s\n",
      "#4 sha256:eba080ca5a70cc6fa2bcbab4c3ba67efb762171f7e63ea47c9e73c23e1b0d14d 9.44MB / 11.01MB 20.1s\n",
      "#4 sha256:eba080ca5a70cc6fa2bcbab4c3ba67efb762171f7e63ea47c9e73c23e1b0d14d 10.49MB / 11.01MB 20.7s\n",
      "#4 sha256:eba080ca5a70cc6fa2bcbab4c3ba67efb762171f7e63ea47c9e73c23e1b0d14d 11.01MB / 11.01MB 21.1s done\n",
      "#4 sha256:a2abf6c4d29d43a4bf9fbb769f524d0fb36a2edab49819c1bf3e76f409f953ea 14.68MB / 31.36MB 21.6s\n",
      "#4 sha256:a2abf6c4d29d43a4bf9fbb769f524d0fb36a2edab49819c1bf3e76f409f953ea 16.78MB / 31.36MB 22.9s\n",
      "#4 sha256:a2abf6c4d29d43a4bf9fbb769f524d0fb36a2edab49819c1bf3e76f409f953ea 18.87MB / 31.36MB 24.3s\n",
      "#4 sha256:a2abf6c4d29d43a4bf9fbb769f524d0fb36a2edab49819c1bf3e76f409f953ea 20.97MB / 31.36MB 25.5s\n",
      "#4 sha256:a2abf6c4d29d43a4bf9fbb769f524d0fb36a2edab49819c1bf3e76f409f953ea 23.07MB / 31.36MB 26.8s\n",
      "#4 sha256:a2abf6c4d29d43a4bf9fbb769f524d0fb36a2edab49819c1bf3e76f409f953ea 25.17MB / 31.36MB 28.4s\n",
      "#4 sha256:a2abf6c4d29d43a4bf9fbb769f524d0fb36a2edab49819c1bf3e76f409f953ea 27.26MB / 31.36MB 30.1s\n",
      "#4 sha256:a2abf6c4d29d43a4bf9fbb769f524d0fb36a2edab49819c1bf3e76f409f953ea 29.36MB / 31.36MB 31.8s\n",
      "#4 sha256:a2abf6c4d29d43a4bf9fbb769f524d0fb36a2edab49819c1bf3e76f409f953ea 31.36MB / 31.36MB 33.4s\n",
      "#4 sha256:a2abf6c4d29d43a4bf9fbb769f524d0fb36a2edab49819c1bf3e76f409f953ea 31.36MB / 31.36MB 33.4s done\n",
      "#4 extracting sha256:a2abf6c4d29d43a4bf9fbb769f524d0fb36a2edab49819c1bf3e76f409f953ea\n",
      "#4 extracting sha256:a2abf6c4d29d43a4bf9fbb769f524d0fb36a2edab49819c1bf3e76f409f953ea 2.5s done\n",
      "#4 extracting sha256:27003db43ed41a599ee4f212684be296e644c6a82868f0f34dc9bdc39dc93348\n",
      "#4 extracting sha256:27003db43ed41a599ee4f212684be296e644c6a82868f0f34dc9bdc39dc93348 0.3s done\n",
      "#4 extracting sha256:eba080ca5a70cc6fa2bcbab4c3ba67efb762171f7e63ea47c9e73c23e1b0d14d\n",
      "#4 extracting sha256:eba080ca5a70cc6fa2bcbab4c3ba67efb762171f7e63ea47c9e73c23e1b0d14d 1.1s done\n",
      "#4 extracting sha256:00ceeca3d803e82aef2f42658d514b7f567a9aac28a45238a3e8891b6c372b1b\n",
      "#4 extracting sha256:00ceeca3d803e82aef2f42658d514b7f567a9aac28a45238a3e8891b6c372b1b done\n",
      "#4 extracting sha256:8980b900ecd203d1d844aea46144bda4a95ef3ebf22245279e14abdfa710840d\n",
      "#4 extracting sha256:8980b900ecd203d1d844aea46144bda4a95ef3ebf22245279e14abdfa710840d 0.6s done\n",
      "#4 DONE 38.7s\n",
      "\n",
      "#5 [2/5] RUN mkdir /app\n",
      "#5 sha256:f8977e52fc2da4995e347b7fb878eedc812cb1c54dc0d42a662aa3db7b518aba\n",
      "#5 DONE 1.0s\n",
      "\n",
      "#7 [3/5] COPY config.yaml api.py ml_model.sav requirements.txt /app/\n",
      "#7 sha256:225505600c673aae0fca7653a7b5aa8f8ef4b53b1650d8021923fe804033acaa\n",
      "#7 DONE 0.1s\n",
      "\n",
      "#8 [4/5] WORKDIR /app\n",
      "#8 sha256:18d5b65acde3e9abf120a8a5fc49aa79e82ac0c72dc5279e85f5486d8d757a40\n",
      "#8 DONE 0.0s\n",
      "\n",
      "#9 [5/5] RUN pip install -r requirements.txt\n",
      "#9 sha256:f1bd33dba3c8737fc37efc96b36cb4a7e01cb75f25226dfe1f902b70745bf147\n",
      "#9 3.488 Collecting Flask==2.0.2\n",
      "#9 3.805   Downloading Flask-2.0.2-py3-none-any.whl (95 kB)\n",
      "#9 5.291 Collecting numpy==1.21.2\n",
      "#9 5.329   Downloading numpy-1.21.2-cp39-cp39-manylinux_2_12_x86_64.manylinux2010_x86_64.whl (15.8 MB)\n",
      "#9 17.77 Collecting sklearn==0.0\n",
      "#9 17.81   Downloading sklearn-0.0.tar.gz (1.1 kB)\n",
      "#9 18.83 Collecting PyYAML==6.0\n",
      "#9 18.89   Downloading PyYAML-6.0-cp39-cp39-manylinux_2_5_x86_64.manylinux1_x86_64.manylinux_2_12_x86_64.manylinux2010_x86_64.whl (661 kB)\n",
      "#9 19.51 Collecting Werkzeug>=2.0\n",
      "#9 19.59   Downloading Werkzeug-2.0.2-py3-none-any.whl (288 kB)\n",
      "#9 19.86 Collecting itsdangerous>=2.0\n",
      "#9 19.90   Downloading itsdangerous-2.0.1-py3-none-any.whl (18 kB)\n",
      "#9 20.02 Collecting Jinja2>=3.0\n",
      "#9 20.06   Downloading Jinja2-3.0.3-py3-none-any.whl (133 kB)\n",
      "#9 20.26 Collecting click>=7.1.2\n",
      "#9 20.30   Downloading click-8.0.3-py3-none-any.whl (97 kB)\n",
      "#9 21.09 Collecting scikit-learn\n",
      "#9 21.14   Downloading scikit_learn-1.0.1-cp39-cp39-manylinux_2_12_x86_64.manylinux2010_x86_64.whl (24.7 MB)\n",
      "#9 37.44 Collecting MarkupSafe>=2.0\n",
      "#9 37.51   Downloading MarkupSafe-2.0.1-cp39-cp39-manylinux_2_5_x86_64.manylinux1_x86_64.manylinux_2_12_x86_64.manylinux2010_x86_64.whl (30 kB)\n",
      "#9 37.85 Collecting joblib>=0.11\n",
      "#9 37.90   Downloading joblib-1.1.0-py2.py3-none-any.whl (306 kB)\n",
      "#9 38.95 Collecting scipy>=1.1.0\n",
      "#9 39.00   Downloading scipy-1.7.3-cp39-cp39-manylinux_2_17_x86_64.manylinux2014_x86_64.whl (39.8 MB)\n",
      "#9 62.48 Collecting threadpoolctl>=2.0.0\n",
      "#9 62.54   Downloading threadpoolctl-3.0.0-py3-none-any.whl (14 kB)\n",
      "#9 62.63 Building wheels for collected packages: sklearn\n",
      "#9 62.63   Building wheel for sklearn (setup.py): started\n",
      "#9 63.10   Building wheel for sklearn (setup.py): finished with status 'done'\n",
      "#9 63.10   Created wheel for sklearn: filename=sklearn-0.0-py2.py3-none-any.whl size=1309 sha256=fd9784210a4fbc07c310437322c7baa3b0210f6c9da0956db7ebea74819b0e16\n",
      "#9 63.10   Stored in directory: /root/.cache/pip/wheels/e4/7b/98/b6466d71b8d738a0c547008b9eb39bf8676d1ff6ca4b22af1c\n",
      "#9 63.10 Successfully built sklearn\n",
      "#9 63.25 Installing collected packages: numpy, threadpoolctl, scipy, MarkupSafe, joblib, Werkzeug, scikit-learn, Jinja2, itsdangerous, click, sklearn, PyYAML, Flask\n",
      "#9 73.68 Successfully installed Flask-2.0.2 Jinja2-3.0.3 MarkupSafe-2.0.1 PyYAML-6.0 Werkzeug-2.0.2 click-8.0.3 itsdangerous-2.0.1 joblib-1.1.0 numpy-1.21.2 scikit-learn-1.0.1 scipy-1.7.3 sklearn-0.0 threadpoolctl-3.0.0\n",
      "#9 73.68 WARNING: Running pip as the 'root' user can result in broken permissions and conflicting behaviour with the system package manager. It is recommended to use a virtual environment instead: https://pip.pypa.io/warnings/venv\n",
      "#9 74.20 WARNING: You are using pip version 21.2.4; however, version 21.3.1 is available.\n",
      "#9 74.20 You should consider upgrading via the '/usr/local/bin/python -m pip install --upgrade pip' command.\n",
      "#9 DONE 74.8s\n",
      "\n",
      "#10 exporting to image\n",
      "#10 sha256:e8c613e07b0b7ff33893b694f7759a10d42e180f2b4dc349fb57dc6b71dcab00\n",
      "#10 exporting layers\n",
      "#10 exporting layers 3.6s done\n",
      "#10 writing image sha256:9b0dfe333bc084f053246d9595a9a78f7a7c675bbd47b67d6bebb34804bc00b1 done\n",
      "#10 naming to docker.io/edlongbottom/mlwebservice/titanic:0.0.2 done\n",
      "#10 DONE 3.6s\n",
      "\n",
      "Use 'docker scan' to run Snyk tests against images to find vulnerabilities and learn how to fix them\n"
     ]
    }
   ],
   "source": [
    "tag = f'{docker_registry}/{service_name}:{api_version}'\n",
    "!docker build -t {tag} ."
   ]
  },
  {
   "cell_type": "markdown",
   "metadata": {},
   "source": [
    "**Run the service on Docker**\n",
    "\n",
    "Run the image as a container locally and map container port 5000 to localhostport 5000 for testing."
   ]
  },
  {
   "cell_type": "code",
   "execution_count": null,
   "metadata": {},
   "outputs": [],
   "source": [
    "!docker run -it -p 5000:5000 --name test-ml-model edlongbottom/mlwebservice/titanic:0.0.1"
   ]
  },
  {
   "cell_type": "markdown",
   "metadata": {},
   "source": [
    "**Test the service**\n",
    "\n",
    "Use Curl or the python requests module to test the prediction web service"
   ]
  },
  {
   "cell_type": "code",
   "execution_count": 30,
   "metadata": {},
   "outputs": [],
   "source": [
    "# example of an input that should yield 0\n",
    "X1 = [-0.11338264511659583,-1.0524307127141423, 1.0, 0.0, 0.0, 0.0, 1.0, 0.0, 1.0, 0.0, 0.0, 0.0, 0.0, 0.0, 0.0, 0.0, 1.0, 0.0, 1.0, 0.0, 0.0, 0.0, 0.0]\n",
    "\n",
    "# example of an input that should yield 1\n",
    "X2 = [-1.632430989759686,0.231855615029561,1.0,0.0,0.0,0.0,1.0,0.0,1.0,0.0,0.0,0.0,0.0,0.0,0.0,1.0,0.0,1.0,0.0,0.0,0.0,0.0,0.0]\n",
    "\n",
    "# define base URL (localhost + flask port)\n",
    "url = f\"http://127.0.0.1:5000/{service_name}/v{api_version}/predict\""
   ]
  },
  {
   "cell_type": "code",
   "execution_count": 26,
   "metadata": {},
   "outputs": [
    {
     "name": "stdout",
     "output_type": "stream",
     "text": [
      "{\"prediction\":1}"
     ]
    },
    {
     "name": "stderr",
     "output_type": "stream",
     "text": [
      "  % Total    % Received % Xferd  Average Speed   Time    Time     Time  Current\n",
      "                                 Dload  Upload   Total   Spent    Left  Speed\n",
      "\n",
      "  0     0    0     0    0     0      0      0 --:--:-- --:--:-- --:--:--     0\n",
      "100   145  100    17  100   128     17    128  0:00:01 --:--:--  0:00:01  141k\n"
     ]
    },
    {
     "name": "stdout",
     "output_type": "stream",
     "text": [
      "\n"
     ]
    }
   ],
   "source": [
    "# using Curl\n",
    "!curl -X POST -H \"Content-Type:application/json\" --data \"{\\\"X\\\":[-1.632430989759686,0.231855615029561,1.0,0.0,0.0,0.0,1.0,0.0,1.0,0.0,0.0,0.0,0.0,0.0,0.0,1.0,0.0,1.0,0.0,0.0,0.0,0.0,0.0]}\" http://127.0.0.1:5000/titanic/v0.0.1/predict"
   ]
  },
  {
   "cell_type": "code",
   "execution_count": 31,
   "metadata": {},
   "outputs": [
    {
     "name": "stdout",
     "output_type": "stream",
     "text": [
      "{'prediction': 1}\n"
     ]
    }
   ],
   "source": [
    "# define requests body and headers\n",
    "body={'X':X2}\n",
    "headers = {\"Content-Type\": \"application/json\"}\n",
    "\n",
    "# send a get request to flask api\n",
    "response = requests.post(url=url, data=json.dumps(body), headers=headers)\n",
    "print(response.json()) "
   ]
  },
  {
   "cell_type": "markdown",
   "metadata": {},
   "source": [
    "**Tear down**\n",
    "\n",
    "Once testing is complete, stop and remove the docker container"
   ]
  },
  {
   "cell_type": "code",
   "execution_count": null,
   "metadata": {},
   "outputs": [],
   "source": [
    "!docker stop test-ml-model\n",
    "!docker rm test-ml-model"
   ]
  },
  {
   "cell_type": "markdown",
   "metadata": {},
   "source": [
    "### Deploy the prediction service to Kubernetes\n",
    "\n",
    "Push the image to Docker hub"
   ]
  },
  {
   "cell_type": "code",
   "execution_count": null,
   "metadata": {},
   "outputs": [],
   "source": [
    "!docker push {tag}"
   ]
  },
  {
   "cell_type": "markdown",
   "metadata": {},
   "source": [
    "Deploy the image to Kubernetes using Helm"
   ]
  },
  {
   "cell_type": "code",
   "execution_count": 16,
   "metadata": {},
   "outputs": [
    {
     "name": "stdout",
     "output_type": "stream",
     "text": [
      "Release \"mlwebservice-titanic\" does not exist. Installing it now.\n",
      "NAME: mlwebservice-titanic\n",
      "LAST DEPLOYED: Thu Dec 23 11:47:24 2021\n",
      "NAMESPACE: default\n",
      "STATUS: deployed\n",
      "REVISION: 1\n",
      "TEST SUITE: None\n"
     ]
    }
   ],
   "source": [
    "!helm upgrade --install mlwebservice-titanic helm-ml-serving"
   ]
  },
  {
   "cell_type": "markdown",
   "metadata": {},
   "source": [
    "Test the web service using Python requests module"
   ]
  },
  {
   "cell_type": "code",
   "execution_count": 24,
   "metadata": {},
   "outputs": [],
   "source": [
    "# example of an input that should yield 0\n",
    "X1 = [-0.11338264511659583,-1.0524307127141423, 1.0, 0.0, 0.0, 0.0, 1.0, 0.0, 1.0, 0.0, 0.0, 0.0, 0.0, 0.0, 0.0, 0.0, 1.0, 0.0, 1.0, 0.0, 0.0, 0.0, 0.0]\n",
    "\n",
    "# example of an input that should yield 1\n",
    "X2 = [-1.632430989759686,0.231855615029561,1.0,0.0,0.0,0.0,1.0,0.0,1.0,0.0,0.0,0.0,0.0,0.0,0.0,1.0,0.0,1.0,0.0,0.0,0.0,0.0,0.0]\n",
    "\n",
    "# define base URL (localhost + flask port)\n",
    "url = f\"http://127.0.0.1:5000/{service_name}/v{api_version}/predict\"\n",
    "body={'X':X2}\n",
    "headers = {\"Content-Type\": \"application/json\"}"
   ]
  },
  {
   "cell_type": "code",
   "execution_count": 25,
   "metadata": {},
   "outputs": [
    {
     "name": "stdout",
     "output_type": "stream",
     "text": [
      "{'prediction': 1}\n"
     ]
    }
   ],
   "source": [
    "# send a get request to flask api\n",
    "response = requests.post(url=url, data=json.dumps(body), headers=headers)\n",
    "print(response.json()) "
   ]
  },
  {
   "cell_type": "markdown",
   "metadata": {},
   "source": [
    "Test the web service using Curl"
   ]
  },
  {
   "cell_type": "code",
   "execution_count": 23,
   "metadata": {},
   "outputs": [
    {
     "name": "stderr",
     "output_type": "stream",
     "text": [
      "  % Total    % Received % Xferd  Average Speed   Time    Time     Time  Current\n",
      "                                 Dload  Upload   Total   Spent    Left  Speed\n",
      "\n",
      "  0     0    0     0    0     0      0      0 --:--:-- --:--:-- --:--:--     0\n",
      "  0     0    0     0    0     0      0      0 --:--:-- --:--:-- --:--:--     0\n",
      "  0     0    0     0    0     0      0      0 --:--:--  0:00:01 --:--:--     0curl: (6) Could not resolve host: url\n"
     ]
    }
   ],
   "source": [
    "url = f\"http://127.0.0.1:5000/{service_name}/v{api_version}/predict\"\n",
    "!curl -X POST -H \"Content-Type:application/json; format=pandas-split\" --data \"{\\\"columns\\\":[\\\"PassengerId\\\",\\\"Survived\\\",\\\"Pclass\\\",\\\"Name\\\",\\\"Sex\\\",\\\"Age\\\",\\\"SibSp\\\",\\\"Parch\\\",\\\"Ticket\\\",\\\"Fare\\\",\\\"Cabin\\\",\\\"Embarked\\\"],\\\"data\\\":[[892,3,'Kelly, Mr. James','male',34.5,0,0,'330911',7.8292,nan,'Q']]}\" {url}"
   ]
  },
  {
   "cell_type": "markdown",
   "metadata": {},
   "source": [
    "**Tear down**\n",
    "\n",
    "Remove the service when not in use"
   ]
  },
  {
   "cell_type": "code",
   "execution_count": null,
   "metadata": {},
   "outputs": [],
   "source": [
    "!helm uninstall mlwebservice-titanic"
   ]
  }
 ],
 "metadata": {
  "interpreter": {
   "hash": "c54b4acbf7bec5da1dd6ed3afae36d1425463432e804fe22fdd7ec77f7461ae2"
  },
  "kernelspec": {
   "display_name": "Python 3 (ipykernel)",
   "language": "python",
   "name": "python3"
  },
  "language_info": {
   "codemirror_mode": {
    "name": "ipython",
    "version": 3
   },
   "file_extension": ".py",
   "mimetype": "text/x-python",
   "name": "python",
   "nbconvert_exporter": "python",
   "pygments_lexer": "ipython3",
   "version": "3.9.6"
  }
 },
 "nbformat": 4,
 "nbformat_minor": 2
}
